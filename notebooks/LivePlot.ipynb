{
 "cells": [
  {
   "cell_type": "code",
   "execution_count": null,
   "id": "81355dae",
   "metadata": {},
   "outputs": [],
   "source": [
    "%matplotlib notebook\n",
    "\n",
    "import time\n",
    "import numpy as np\n",
    "import matplotlib.pyplot as plt\n",
    "\n",
    "def CollectAndPlot(*args):\n",
    "    fig = plt.figure()\n",
    "    ax = fig.add_subplot(111)\n",
    "    plt.ion()\n",
    "    fig.show()\n",
    "    fig.canvas.draw()\n",
    "    series = {}\n",
    "    while True:\n",
    "        for fn in args:\n",
    "            k, val = fn()\n",
    "            if k not in series:\n",
    "                series[k]=list()\n",
    "            series[k].append(val)\n",
    "        ax.clear()\n",
    "        lines = [ax.plot(series[k], label=k)[0] for k in series]\n",
    "        ax.legend(handles=lines)\n",
    "        fig.canvas.draw()\n",
    "        time.sleep(1)"
   ]
  },
  {
   "cell_type": "code",
   "execution_count": null,
   "id": "4946e9f3",
   "metadata": {},
   "outputs": [],
   "source": [
    "import sys\n",
    "import os\n",
    "from pathlib import Path\n",
    "path = Path(os.getcwd())\n",
    "sys.path.append(str(path.parent.absolute()))\n",
    "\n",
    "import rtg\n",
    "\n",
    "rtg.login('user', 'user', 'http://localhost:8080')\n",
    "\n",
    "def apples():\n",
    "    return 'apple_zurich', rtg.get()[0]['zurich']['apples'].ask.price\n",
    "\n",
    "def apples2():\n",
    "    return 'apple_london', rtg.get()[0]['london']['apples'].ask.price\n",
    "\n",
    "CollectAndPlot(apples, apples2)"
   ]
  }
 ],
 "metadata": {
  "kernelspec": {
   "display_name": "Python 3 (ipykernel)",
   "language": "python",
   "name": "python3"
  },
  "language_info": {
   "codemirror_mode": {
    "name": "ipython",
    "version": 3
   },
   "file_extension": ".py",
   "mimetype": "text/x-python",
   "name": "python",
   "nbconvert_exporter": "python",
   "pygments_lexer": "ipython3",
   "version": "3.10.12"
  }
 },
 "nbformat": 4,
 "nbformat_minor": 5
}
