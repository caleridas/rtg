{
 "cells": [
  {
   "cell_type": "code",
   "execution_count": 1,
   "id": "e5b14f4b",
   "metadata": {},
   "outputs": [],
   "source": [
    "import sys\n",
    "import os\n",
    "from pathlib import Path\n",
    "path = Path(os.getcwd())\n",
    "sys.path.append(str(path.parent.absolute()))\n",
    "\n",
    "import rtg\n",
    "rtg.login('user', 'user', 'http://localhost:8080')\n"
   ]
  },
  {
   "cell_type": "code",
   "execution_count": 2,
   "id": "becda5dd",
   "metadata": {},
   "outputs": [
    {
     "data": {
      "text/plain": [
       "(State(zurich=Venue(apples=Fruit(ask=Side(price=110, qty=6), bid=Side(price=106, qty=9)), bananas=Fruit(ask=Side(price=107, qty=8), bid=Side(price=104, qty=7)), tomatoes=Fruit(ask=Side(price=99, qty=7), bid=Side(price=96, qty=8))), frankfurt=Venue(apples=Fruit(ask=Side(price=106, qty=5), bid=Side(price=101, qty=8)), bananas=Fruit(ask=Side(price=114, qty=7), bid=Side(price=111, qty=6)), tomatoes=Fruit(ask=Side(price=96, qty=7), bid=Side(price=91, qty=8))), london=Venue(apples=Fruit(ask=Side(price=105, qty=8), bid=Side(price=101, qty=15)), bananas=Fruit(ask=Side(price=116, qty=6), bid=Side(price=110, qty=7)), tomatoes=Fruit(ask=Side(price=107, qty=8), bid=Side(price=101, qty=9)))),\n",
       " Inventory(cash=10000, apples=0, bananas=0, tomatoes=0))"
      ]
     },
     "execution_count": 2,
     "metadata": {},
     "output_type": "execute_result"
    }
   ],
   "source": [
    "rtg.get()"
   ]
  },
  {
   "cell_type": "code",
   "execution_count": null,
   "id": "253bb066",
   "metadata": {},
   "outputs": [],
   "source": []
  }
 ],
 "metadata": {
  "kernelspec": {
   "display_name": "Python 3 (ipykernel)",
   "language": "python",
   "name": "python3"
  },
  "language_info": {
   "codemirror_mode": {
    "name": "ipython",
    "version": 3
   },
   "file_extension": ".py",
   "mimetype": "text/x-python",
   "name": "python",
   "nbconvert_exporter": "python",
   "pygments_lexer": "ipython3",
   "version": "3.10.12"
  }
 },
 "nbformat": 4,
 "nbformat_minor": 5
}
